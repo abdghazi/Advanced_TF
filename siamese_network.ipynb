{
  "nbformat": 4,
  "nbformat_minor": 0,
  "metadata": {
    "colab": {
      "name": "siamese network.ipynb",
      "provenance": []
    },
    "kernelspec": {
      "name": "python3",
      "display_name": "Python 3"
    }
  },
  "cells": [
    {
      "cell_type": "code",
      "metadata": {
        "id": "Lm22QzrJDMgu"
      },
      "source": [
        "import tensorflow as tf\n",
        "from tensorflow.keras.models import Model\n",
        "from tensorflow.keras.layers import Input, Flatten, Dense, Dropout, Lambda\n",
        "from tensorflow.keras.optimizers import RMSprop\n",
        "from tensorflow.keras.datasets import fashion_mnist\n",
        "from tensorflow.python.keras.utils.vis_utils import plot_model\n",
        "from tensorflow.keras import backend as K\n",
        "\n",
        "import numpy as np\n",
        "import matplotlib.pyplot as plt\n",
        "from PIL import Image, ImageFont, ImageDraw\n",
        "import random"
      ],
      "execution_count": null,
      "outputs": []
    },
    {
      "cell_type": "code",
      "metadata": {
        "id": "9ODSqMJJVWLd"
      },
      "source": [
        "def create_pairs(x, digit_indices):\n",
        "\n",
        "    pairs = []\n",
        "    labels = []\n",
        "    n = min([len(digit_indices[d]) for d in range(10)]) - 1\n",
        "    \n",
        "    for d in range(10):\n",
        "        for i in range(n):\n",
        "            z1, z2 = digit_indices[d][i], digit_indices[d][i + 1]\n",
        "            pairs += [[x[z1], x[z2]]]\n",
        "            inc = random.randrange(1, 10)\n",
        "            dn = (d + inc) % 10\n",
        "            z1, z2 = digit_indices[d][i], digit_indices[dn][i]\n",
        "            pairs += [[x[z1], x[z2]]]\n",
        "            labels += [1, 0]\n",
        "            \n",
        "    return np.array(pairs), np.array(labels)\n"
      ],
      "execution_count": null,
      "outputs": []
    },
    {
      "cell_type": "code",
      "metadata": {
        "id": "eRFKYmK9Xnx6"
      },
      "source": [
        "def create_pairs_on_set(images, labels):\n",
        "    \n",
        "    digit_indices = [np.where(labels == i)[0] for i in range(10)]\n",
        "    pairs, y = create_pairs(images, digit_indices)\n",
        "    y = y.astype('float32')\n",
        "    \n",
        "    return pairs, y"
      ],
      "execution_count": null,
      "outputs": []
    },
    {
      "cell_type": "code",
      "metadata": {
        "id": "fCqRUvI_YAls"
      },
      "source": [
        "def show_image(image):\n",
        "  plt.figure()\n",
        "  plt.imshow(image)\n",
        "  plt.colorbar()\n",
        "  plt.grid(False)\n",
        "  plt.show()\n"
      ],
      "execution_count": null,
      "outputs": []
    },
    {
      "cell_type": "code",
      "metadata": {
        "id": "IQAqfvmfYiOC"
      },
      "source": [
        "(train_images, train_labels), (test_images, test_labels) = fashion_mnist.load_data()\n",
        "train_images = train_images.astype('float32')\n",
        "test_images = test_images.astype('float32')\n",
        "train_images = train_images / 255.0\n",
        "test_images = test_images / 255.0\n",
        "tr_pairs, tr_y = create_pairs_on_set(train_images, train_labels)\n",
        "ts_pairs, ts_y = create_pairs_on_set(test_images, test_labels)"
      ],
      "execution_count": null,
      "outputs": []
    },
    {
      "cell_type": "code",
      "metadata": {
        "colab": {
          "base_uri": "https://localhost:8080/",
          "height": 538
        },
        "id": "kGzIzwPyYzmm",
        "outputId": "bf316d22-54e4-4e7d-e63c-ba7aca2faa31"
      },
      "source": [
        "i=5\n",
        "\n",
        "show_image(tr_pairs[i][0])\n",
        "show_image(ts_pairs[i][0])\n",
        "print(tr_y[i])"
      ],
      "execution_count": null,
      "outputs": [
        {
          "output_type": "display_data",
          "data": {
            "image/png": "[encoded data removed]",
            "text/plain": [
              "<Figure size 432x288 with 2 Axes>"
            ]
          },
          "metadata": {
            "tags": [],
            "needs_background": "light"
          }
        },
        {
          "output_type": "display_data",
          "data": {
            "image/png": "[encoded data removed]",
            "text/plain": [
              "<Figure size 432x288 with 2 Axes>"
            ]
          },
          "metadata": {
            "tags": [],
            "needs_background": "light"
          }
        },
        {
          "output_type": "stream",
          "text": [
            "0.0\n"
          ],
          "name": "stdout"
        }
      ]
    },
    {
      "cell_type": "code",
      "metadata": {
        "id": "AvCQJ74SZgbx"
      },
      "source": [
        "def base_network():\n",
        "  input = Input(shape=(28,28,), name='base_input')\n",
        "  x = Flatten(name='Flatten_input')(input)\n",
        "  x = Dense(128, activation='relu', name = 'f1')(x)\n",
        "  x = Dropout(0.1, name = 'D1')(x)\n",
        "  x = Dense(128, activation='relu', name = 'f2')(x)\n",
        "  x = Dropout(0.1, name = 'D2')(x)\n",
        "  x = Dense(128, activation='relu', name = 'f3')(x)\n",
        "\n",
        "  return Model(inputs = input, outputs =  x)\n",
        "\n",
        "def euclidean_distance(vects):\n",
        "    x, y = vects\n",
        "    sum_square = K.sum(K.square(x - y), axis=1, keepdims=True)\n",
        "    return K.sqrt(K.maximum(sum_square, K.epsilon()))\n",
        "\n",
        "def euclidian_distance_shape(shapes):\n",
        "  s1, s2 = shapes\n",
        "  return (s1[0], 1)"
      ],
      "execution_count": null,
      "outputs": []
    },
    {
      "cell_type": "code",
      "metadata": {
        "id": "DZ0Grsz_gyIs"
      },
      "source": [
        "base_network = base_network()"
      ],
      "execution_count": null,
      "outputs": []
    },
    {
      "cell_type": "code",
      "metadata": {
        "colab": {
          "base_uri": "https://localhost:8080/",
          "height": 661
        },
        "id": "SWWc21CVg6zA",
        "outputId": "c8500bf5-52b0-41ff-a3c3-cb4c046f1037"
      },
      "source": [
        "plot_model(base_network, show_layer_names=True)"
      ],
      "execution_count": null,
      "outputs": [
        {
          "output_type": "execute_result",
          "data": {
            "image/png": "[encoded data removed]",
            "text/plain": [
              "<IPython.core.display.Image object>"
            ]
          },
          "metadata": {
            "tags": []
          },
          "execution_count": 31
        }
      ]
    },
    {
      "cell_type": "markdown",
      "metadata": {
        "id": "ggChflA5iLeh"
      },
      "source": [
        "*italicized text*"
      ]
    },
    {
      "cell_type": "code",
      "metadata": {
        "id": "bE1VLQWGiPVb"
      },
      "source": [
        "input1 = Input(shape=(28, 28,), name = \"i1\")\n",
        "v1 = base_network(input1)\n",
        "\n",
        "input2 = Input(shape = (28, 28, ), name = 'i2')\n",
        "v2 = base_network(input2)\n",
        "\n",
        "output = Lambda(euclidean_distance, name = 'output_layer', output_shape = euclidian_distance_shape)([v1, v2])\n",
        "\n",
        "model = Model(inputs = [input1, input2], outputs = output)"
      ],
      "execution_count": null,
      "outputs": []
    },
    {
      "cell_type": "code",
      "metadata": {
        "colab": {
          "base_uri": "https://localhost:8080/",
          "height": 272
        },
        "id": "Sc_dvTENj-cp",
        "outputId": "7d04606f-7d7a-4e77-8a22-5d8589ab7647"
      },
      "source": [
        "plot_model(model, show_layer_names=True)"
      ],
      "execution_count": null,
      "outputs": [
        {
          "output_type": "execute_result",
          "data": {
            "image/png": "[encoded data removed]",
            "text/plain": [
              "<IPython.core.display.Image object>"
            ]
          },
          "metadata": {
            "tags": []
          },
          "execution_count": 33
        }
      ]
    },
    {
      "cell_type": "code",
      "metadata": {
        "id": "XpvBilULkChV"
      },
      "source": [
        "def contrastive_loss_with_margin(margin):\n",
        "    def contrastive_loss(y_true, y_pred):\n",
        "\n",
        "        square_pred = K.square(y_pred)\n",
        "        margin_square = K.square(K.maximum(margin - y_pred, 0))\n",
        "        return K.mean(y_true * square_pred + (1 - y_true) * margin_square)\n",
        "    return contrastive_loss"
      ],
      "execution_count": null,
      "outputs": []
    },
    {
      "cell_type": "code",
      "metadata": {
        "colab": {
          "base_uri": "https://localhost:8080/"
        },
        "id": "S9nk88Vxvxdv",
        "outputId": "181f6a8e-b1ba-4288-a0ee-3a273a563745"
      },
      "source": [
        "rms = RMSprop()\n",
        "model.compile(loss = contrastive_loss_with_margin(margin=1), optimizer=rms)\n",
        "history = model.fit([tr_pairs[:,0], tr_pairs[:,1]], tr_y, epochs=20, batch_size=128, validation_data=([ts_pairs[:,0], ts_pairs[:,1]], ts_y))"
      ],
      "execution_count": null,
      "outputs": [
        {
          "output_type": "stream",
          "text": [
            "Epoch 1/20\n",
            "938/938 [==============================] - 9s 10ms/step - loss: 0.1137 - val_loss: 0.0849\n",
            "Epoch 2/20\n",
            "938/938 [==============================] - 7s 7ms/step - loss: 0.0813 - val_loss: 0.0739\n",
            "Epoch 3/20\n",
            "938/938 [==============================] - 7s 8ms/step - loss: 0.0721 - val_loss: 0.0727\n",
            "Epoch 4/20\n",
            "938/938 [==============================] - 7s 8ms/step - loss: 0.0673 - val_loss: 0.0669\n",
            "Epoch 5/20\n",
            "938/938 [==============================] - 7s 8ms/step - loss: 0.0641 - val_loss: 0.0685\n",
            "Epoch 6/20\n",
            "938/938 [==============================] - 7s 8ms/step - loss: 0.0621 - val_loss: 0.0664\n",
            "Epoch 7/20\n",
            "938/938 [==============================] - 8s 8ms/step - loss: 0.0609 - val_loss: 0.0647\n",
            "Epoch 8/20\n",
            "938/938 [==============================] - 8s 8ms/step - loss: 0.0592 - val_loss: 0.0642\n",
            "Epoch 9/20\n",
            "938/938 [==============================] - 7s 8ms/step - loss: 0.0581 - val_loss: 0.0677\n",
            "Epoch 10/20\n",
            "938/938 [==============================] - 7s 8ms/step - loss: 0.0573 - val_loss: 0.0642\n",
            "Epoch 11/20\n",
            "938/938 [==============================] - 7s 8ms/step - loss: 0.0562 - val_loss: 0.0649\n",
            "Epoch 12/20\n",
            "938/938 [==============================] - 8s 8ms/step - loss: 0.0556 - val_loss: 0.0646\n",
            "Epoch 13/20\n",
            "938/938 [==============================] - 7s 8ms/step - loss: 0.0547 - val_loss: 0.0642\n",
            "Epoch 14/20\n",
            "938/938 [==============================] - 7s 8ms/step - loss: 0.0544 - val_loss: 0.0634\n",
            "Epoch 15/20\n",
            "938/938 [==============================] - 7s 8ms/step - loss: 0.0540 - val_loss: 0.0634\n",
            "Epoch 16/20\n",
            "938/938 [==============================] - 7s 8ms/step - loss: 0.0532 - val_loss: 0.0636\n",
            "Epoch 17/20\n",
            "938/938 [==============================] - 8s 8ms/step - loss: 0.0527 - val_loss: 0.0642\n",
            "Epoch 18/20\n",
            "938/938 [==============================] - 8s 8ms/step - loss: 0.0522 - val_loss: 0.0662\n",
            "Epoch 19/20\n",
            "938/938 [==============================] - 7s 8ms/step - loss: 0.0519 - val_loss: 0.0640\n",
            "Epoch 20/20\n",
            "938/938 [==============================] - 7s 8ms/step - loss: 0.0514 - val_loss: 0.0657\n"
          ],
          "name": "stdout"
        }
      ]
    },
    {
      "cell_type": "code",
      "metadata": {
        "id": "8QjvOki9wcxj"
      },
      "source": [
        "def compute_accuracy(y_true, y_pred):\n",
        "    '''Compute classification accuracy with a fixed threshold on distances.\n",
        "    '''\n",
        "    pred = y_pred.ravel() > 0.5\n",
        "    return np.mean(pred == y_true)"
      ],
      "execution_count": null,
      "outputs": []
    },
    {
      "cell_type": "code",
      "metadata": {
        "id": "qusu6edXxCv-",
        "colab": {
          "base_uri": "https://localhost:8080/"
        },
        "outputId": "c823a8cc-a9f5-4c9d-9c77-72005c2cd753"
      },
      "source": [
        "loss = model.evaluate(x=[ts_pairs[:,0],ts_pairs[:,1]], y=ts_y)\n",
        "\n",
        "y_pred_train = model.predict([tr_pairs[:,0], tr_pairs[:,1]])\n",
        "train_accuracy = compute_accuracy(tr_y, y_pred_train)\n",
        "\n",
        "y_pred_test = model.predict([ts_pairs[:,0], ts_pairs[:,1]])\n",
        "test_accuracy = compute_accuracy(ts_y, y_pred_test)\n",
        "\n",
        "print(\"Loss = {}, Train Accuracy = {} Test Accuracy = {}\".format(loss, train_accuracy, test_accuracy))"
      ],
      "execution_count": null,
      "outputs": [
        {
          "output_type": "stream",
          "text": [
            "625/625 [==============================] - 1s 1ms/step - loss: 0.0657\n",
            "Loss = 0.0656726136803627, Train Accuracy = 0.06433572262043674 Test Accuracy = 0.0916916916916917\n"
          ],
          "name": "stdout"
        }
      ]
    },
    {
      "cell_type": "code",
      "metadata": {
        "id": "SwwJCO-cxEME"
      },
      "source": [
        ""
      ],
      "execution_count": null,
      "outputs": []
    }
  ]
}